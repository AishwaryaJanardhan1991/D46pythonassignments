{
 "cells": [
  {
   "cell_type": "code",
   "execution_count": 2,
   "id": "22c9ab09-62f9-4359-b660-645294f69ed1",
   "metadata": {},
   "outputs": [
    {
     "name": "stdout",
     "output_type": "stream",
     "text": [
      "Aishwarya Janardhan M\n",
      "ST1001\n",
      "shivaishwarya14@gmail.com\n"
     ]
    }
   ],
   "source": [
    "#Excercise 1\n",
    "# printing name, student Id, Email\n",
    "print('Aishwarya Janardhan M')\n",
    "print('ST1001')\n",
    "print('shivaishwarya14@gmail.com')"
   ]
  },
  {
   "cell_type": "code",
   "execution_count": 3,
   "id": "79a84ebf-b5da-4351-9d2b-67e7aa86349f",
   "metadata": {},
   "outputs": [
    {
     "name": "stdout",
     "output_type": "stream",
     "text": [
      "Aishwarya Janardhan M \n",
      "ST1001 \n",
      "shivaishwarya14@gmail.com\n"
     ]
    }
   ],
   "source": [
    "#Excercise 2\n",
    "#python code using escape sequence\n",
    "print('Aishwarya Janardhan M \\nST1001 \\nshivaishwarya14@gmail.com')"
   ]
  },
  {
   "cell_type": "code",
   "execution_count": 7,
   "id": "be6f0938-d100-4977-a2d8-ae23eb2809a5",
   "metadata": {},
   "outputs": [
    {
     "name": "stdout",
     "output_type": "stream",
     "text": [
      "14+7 = 21\n",
      "14-7 = 7\n",
      "14*7 = 98\n",
      "14/7 = 2.0\n"
     ]
    }
   ],
   "source": [
    "#Excercise 3\n",
    "# adding,substracting, multiplying and dividing two numbers\n",
    "a=14\n",
    "b=7\n",
    "print(f\"{a}+{b} = {a+b}\")\n",
    "print(f\"{a}-{b} = {a-b}\")\n",
    "print(f\"{a}*{b} = {a*b}\")\n",
    "print(f\"{a}/{b} = {a/b}\")"
   ]
  },
  {
   "cell_type": "code",
   "execution_count": 9,
   "id": "0163cd55-82e9-475c-a7f6-22d4363a01d2",
   "metadata": {},
   "outputs": [
    {
     "name": "stdout",
     "output_type": "stream",
     "text": [
      "1 \n",
      "2 \n",
      "3 \n",
      "4 \n",
      "5\n"
     ]
    }
   ],
   "source": [
    "#Excercise 4\n",
    "# Displaying number 1 to 5 in steps\n",
    "print('1 \\n2 \\n3 \\n4 \\n5')\n"
   ]
  },
  {
   "cell_type": "code",
   "execution_count": 12,
   "id": "93cdce70-9114-4371-837f-b1453c530b49",
   "metadata": {},
   "outputs": [
    {
     "name": "stdout",
     "output_type": "stream",
     "text": [
      "\"SDK\" stands for \"Software Development Kit\", whereas \"IDE\" stands for \"Integrated Development Environment\".\n"
     ]
    }
   ],
   "source": [
    "#Excercise 5\n",
    "# writing the same sentence including letters and characters\n",
    "print(\"\\\"SDK\\\" stands for \\\"Software Development Kit\\\", whereas \\\"IDE\\\" stands for \\\"Integrated Development Environment\\\".\")\n"
   ]
  },
  {
   "cell_type": "code",
   "execution_count": 17,
   "id": "6c728ba3-f909-444f-987e-f4f1afa01e95",
   "metadata": {},
   "outputs": [
    {
     "name": "stdout",
     "output_type": "stream",
     "text": [
      "python is an \"awesome\" language.\n",
      "python\n",
      "\t2023\n",
      "I'm from Entri\n",
      "5\n",
      "e\n",
      "Entri\n",
      "2023\n",
      "Entr2023\n",
      "Entri*20"
     ]
    }
   ],
   "source": [
    "#Excercise 6\n",
    "# checking for outputs\n",
    "print(\"python is an \\\"awesome\\\" language.\")\n",
    "print(\"python\\n\\t2023\")\n",
    "print('I\\'m from Entri.\\b')\n",
    "print(\"\\65\") \n",
    "print(\"\\x65\")\n",
    "print(\"Entri\", \"2023\", sep=\"\\n\")\n",
    "print(\"Entri\", \"2023\", sep=\"\\b\")\n",
    "print(\"Entri\", \"2023\", sep=\"*\", end=\"\\b\\b\\b\\b\") "
   ]
  },
  {
   "cell_type": "code",
   "execution_count": 61,
   "id": "6fbaf508-e0d7-46b8-aa14-e5be15f3826a",
   "metadata": {},
   "outputs": [
    {
     "name": "stdout",
     "output_type": "stream",
     "text": [
      "The type of num is: <class 'int'>\n",
      "The type of textnum is: <class 'str'>\n",
      "The type of decimal is: <class 'float'>\n",
      "Sum: 178.3\n",
      "type of sum is: <class 'float'>\n"
     ]
    }
   ],
   "source": [
    "#Excercise 7\n",
    "# checking the variables\n",
    "num = 23\n",
    "textnum = \"57\"\n",
    "decimal = 98.3\n",
    "print('The type of num is:',type(num))\n",
    "print('The type of textnum is:',type(textnum))\n",
    "print('The type of decimal is:',type(decimal))\n",
    "The_sum_of_Variables = num+ int(textnum)+ decimal\n",
    "print(\"Sum:\", The_sum_of_Variables)\n",
    "print('type of sum is:', type(The_sum_of_Variables))"
   ]
  },
  {
   "cell_type": "code",
   "execution_count": 62,
   "id": "78ef01f8-b7a1-4e7b-9da7-e691b5884275",
   "metadata": {},
   "outputs": [
    {
     "name": "stdout",
     "output_type": "stream",
     "text": [
      "The total number of minutes in a year :525600\n"
     ]
    }
   ],
   "source": [
    "#Excercise 8\n",
    "# Calculating number of minutes in a year\n",
    "No_of_days_in_a_year = 365\n",
    "Minute_in_a_hour = 60\n",
    "Hours_in_a_day = 24\n",
    "The_total_minutes_in_a_year = No_of_days_in_a_year*Minute_in_a_hour*Hours_in_a_day\n",
    "print(f\"The total number of minutes in a year :{The_total_minutes_in_a_year}\")"
   ]
  },
  {
   "cell_type": "code",
   "execution_count": 1,
   "id": "82c3bafe-d6c7-4a5d-9fef-22f7879913b2",
   "metadata": {},
   "outputs": [
    {
     "name": "stdin",
     "output_type": "stream",
     "text": [
      "Please enter you name: Aishwarya\n"
     ]
    },
    {
     "name": "stdout",
     "output_type": "stream",
     "text": [
      "Hi Aishwarya, welcome to Python programming :)\n"
     ]
    }
   ],
   "source": [
    "#Excercise 9\n",
    "# printing an automatic greeting message while entering a name\n",
    "Name = input(\"Please enter you name:\")\n",
    "print(f\"Hi {Name}, welcome to Python programming :)\")"
   ]
  },
  {
   "cell_type": "code",
   "execution_count": 63,
   "id": "af72fc18-bf43-406a-b6e3-60e958e5fd51",
   "metadata": {},
   "outputs": [
    {
     "name": "stdin",
     "output_type": "stream",
     "text": [
      "enter an amount in pounds:(£) 78\n"
     ]
    },
    {
     "name": "stdout",
     "output_type": "stream",
     "text": [
      "£78.0 are $98.28\n"
     ]
    }
   ],
   "source": [
    "#Excercise 10\n",
    "#Converting amount in pound to dollar(Same also attached with notepad document with file name)\n",
    "Pounds = float(input('enter an amount in pounds:(£)'))\n",
    "Dollar_conversion_rate = 1.26\n",
    "Dollars = Pounds * Dollar_conversion_rate \n",
    "print(f\"£{Pounds} are ${Dollars}\")"
   ]
  }
 ],
 "metadata": {
  "kernelspec": {
   "display_name": "Python 3 (ipykernel)",
   "language": "python",
   "name": "python3"
  },
  "language_info": {
   "codemirror_mode": {
    "name": "ipython",
    "version": 3
   },
   "file_extension": ".py",
   "mimetype": "text/x-python",
   "name": "python",
   "nbconvert_exporter": "python",
   "pygments_lexer": "ipython3",
   "version": "3.12.7"
  }
 },
 "nbformat": 4,
 "nbformat_minor": 5
}
