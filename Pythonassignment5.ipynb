{
 "cells": [
  {
   "cell_type": "code",
   "execution_count": 1,
   "id": "5a68680c-91a1-4418-8af6-eb598b58983b",
   "metadata": {},
   "outputs": [],
   "source": [
    "# Exercise 1\n",
    "# writing a program to read a file\n",
    "\n",
    "file = open('Sample_1','w')\n",
    "file.write(\"Hello, This is your sample demo.\")\n",
    "file.close()"
   ]
  },
  {
   "cell_type": "code",
   "execution_count": 2,
   "id": "e18c15d4-b628-4018-ac45-c26f455d99be",
   "metadata": {},
   "outputs": [
    {
     "name": "stdout",
     "output_type": "stream",
     "text": [
      "The content of the file is: Hello, This is your sample demo.\n"
     ]
    }
   ],
   "source": [
    "# to read the file\n",
    "with open('Sample_1','r') as file:\n",
    "    content = file.read()\n",
    "    print('The content of the file is:', content)"
   ]
  },
  {
   "cell_type": "code",
   "execution_count": 3,
   "id": "51f4edce-36bd-436a-be23-16d42c9ba6f7",
   "metadata": {},
   "outputs": [
    {
     "name": "stdout",
     "output_type": "stream",
     "text": [
      "contents copied successfully\n"
     ]
    }
   ],
   "source": [
    "# Exercise 2\n",
    "# copying content to another file\n",
    "\n",
    "with open('Sample_1','r') as main_file:\n",
    "    content = main_file.read()\n",
    "\n",
    "with open('destination','w') as d:\n",
    "    d.write(content)\n",
    "    \n",
    "print(f\"contents copied successfully\")   "
   ]
  },
  {
   "cell_type": "code",
   "execution_count": 4,
   "id": "841e11d5-c502-4593-b72a-7984e2c556c9",
   "metadata": {},
   "outputs": [
    {
     "name": "stdout",
     "output_type": "stream",
     "text": [
      "Hello, This is your sample demo.\n"
     ]
    }
   ],
   "source": [
    "#checking\n",
    "with open('destination', 'r') as b:\n",
    "    c = b.read()\n",
    "    print (c)"
   ]
  },
  {
   "cell_type": "code",
   "execution_count": 5,
   "id": "8640d2a8-c768-4112-ae5b-b3240c851dbb",
   "metadata": {},
   "outputs": [
    {
     "name": "stdout",
     "output_type": "stream",
     "text": [
      "Total No_of Words = 6\n"
     ]
    }
   ],
   "source": [
    "# Exercise 3\n",
    "# python code to read a file and counting number of words\n",
    "\n",
    "with open ('Sample_1', 'r') as file_1:\n",
    "  content = file_1.read()\n",
    "  words = content.split()\n",
    "  Count_of_word = len(words)\n",
    "print(f\"Total No_of Words = {Count_of_word}\")"
   ]
  },
  {
   "cell_type": "code",
   "execution_count": 6,
   "id": "8e015e20-8fda-45f4-af79-84f41a0c2268",
   "metadata": {},
   "outputs": [
    {
     "name": "stdin",
     "output_type": "stream",
     "text": [
      "Enter a string to convert to an integer:  Movie\n"
     ]
    },
    {
     "name": "stdout",
     "output_type": "stream",
     "text": [
      "You are entering an invalid input! Please enter a valid number.\n"
     ]
    }
   ],
   "source": [
    "# Excercise 4\n",
    "# checking for a string to convert integer and using trya nd except\n",
    "User_input = input(\"Enter a string to convert to an integer: \")\n",
    "try:\n",
    "    Number = int (User_input)\n",
    "    print(f\"Converted_no.is : {Number}\")\n",
    "except ValueError:\n",
    "    print(\"You are entering an invalid input! Please enter a valid number.\")"
   ]
  },
  {
   "cell_type": "code",
   "execution_count": 10,
   "id": "bd701eb4-9921-4204-8c9e-f4e5124469d2",
   "metadata": {},
   "outputs": [
    {
     "name": "stdin",
     "output_type": "stream",
     "text": [
      "Enter a list of integers seperated by spaces:  78 -76 -90 45 49\n"
     ]
    },
    {
     "name": "stdout",
     "output_type": "stream",
     "text": [
      "Error: Negative integers are not allowed.\n"
     ]
    }
   ],
   "source": [
    "# Excercise 5\n",
    "# raise exception while entering negetive integers\n",
    "User_input = input(\"Enter a list of integers seperated by spaces: \")\n",
    "try:\n",
    "    Integers = list(map(int,User_input.split()))\n",
    "    if any(num < 0 for num in Integers):\n",
    "        raise ValueError(\"Negative integers are not allowed.\")\n",
    "    print(\"Valid list of integers:\", numbers)\n",
    "except ValueError as Ve:\n",
    "    print(f\"Error: {Ve}\")"
   ]
  },
  {
   "cell_type": "code",
   "execution_count": 9,
   "id": "00fe613f-17cf-4edf-bb84-d05ab3f94fc7",
   "metadata": {},
   "outputs": [
    {
     "name": "stdin",
     "output_type": "stream",
     "text": [
      "Enter a list of integers seperated by spaces:  54 65 76 89\n"
     ]
    },
    {
     "name": "stdout",
     "output_type": "stream",
     "text": [
      "Average: 71.0\n",
      "Program has finished running\n"
     ]
    }
   ],
   "source": [
    "# Excercise 6\n",
    "# computing average of integers with error handling ana using try ,except blocks to finiosh the program\n",
    "\n",
    "try:\n",
    "    User_input = input(\"Enter a list of integers seperated by spaces: \")\n",
    "    integers = list(map(int,User_input.split()))\n",
    "    average = sum(integers)/ len(integers)\n",
    "    print(f\"Average: {average}\")\n",
    "except ZeroDivisionError:\n",
    "    print(\"Error: Devided by zero. The list cant be empty.\")\n",
    "except ValueError:\n",
    "    print(\"Error: Please enter valid integers.\")\n",
    "finally:\n",
    "    print(\"Program has finished running\")"
   ]
  },
  {
   "cell_type": "code",
   "execution_count": 12,
   "id": "fcfe8bdb-230b-4d71-bfbe-4b952cd38731",
   "metadata": {},
   "outputs": [
    {
     "name": "stdin",
     "output_type": "stream",
     "text": [
      "Enter the filename to write to:  Sample_1\n",
      "Enter the content to write:  This is your sample demo\n"
     ]
    },
    {
     "name": "stdout",
     "output_type": "stream",
     "text": [
      "File written successfully.Welcome!\n",
      "program executed.\n"
     ]
    }
   ],
   "source": [
    "# Excercise 7\n",
    "# writing a string to a file with exception hanfdling and welcoming message\n",
    "try:\n",
    "    filename = input(\"Enter the filename to write to: \")\n",
    "    content = input(\"Enter the content to write: \")\n",
    "    with open(filename, 'w') as file:\n",
    "        file.write(content)\n",
    "    print(\"File written successfully.Welcome!\")\n",
    "except Exception as e:\n",
    "    print(f\"Error: {e}\")\n",
    "finally:\n",
    "    print(f\"program executed.\")"
   ]
  }
 ],
 "metadata": {
  "kernelspec": {
   "display_name": "Python 3 (ipykernel)",
   "language": "python",
   "name": "python3"
  },
  "language_info": {
   "codemirror_mode": {
    "name": "ipython",
    "version": 3
   },
   "file_extension": ".py",
   "mimetype": "text/x-python",
   "name": "python",
   "nbconvert_exporter": "python",
   "pygments_lexer": "ipython3",
   "version": "3.12.7"
  }
 },
 "nbformat": 4,
 "nbformat_minor": 5
}
