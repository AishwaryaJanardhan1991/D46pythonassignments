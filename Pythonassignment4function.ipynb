{
 "cells": [
  {
   "cell_type": "code",
   "execution_count": 1,
   "id": "4d4707ea-00d0-4ed2-846a-06017629d0bd",
   "metadata": {},
   "outputs": [],
   "source": [
    "# Excercise 1\n",
    "# creating a function having 3 differnt arguments\n",
    "\n",
    "def Different_function(a, b = 10, c = None):\n",
    "    if c is None:\n",
    "        print(a+b)\n",
    "    else:\n",
    "        print (a*b*c)"
   ]
  },
  {
   "cell_type": "code",
   "execution_count": 3,
   "id": "f602c4cf-4570-46a5-ac0e-9c46a4f3efcb",
   "metadata": {},
   "outputs": [
    {
     "name": "stdout",
     "output_type": "stream",
     "text": [
      "13\n",
      "7\n",
      "60\n"
     ]
    }
   ],
   "source": [
    "# checking for result\n",
    "Different_function(3)\n",
    "Different_function(3,4)\n",
    "Different_function(3,4,5)"
   ]
  },
  {
   "cell_type": "code",
   "execution_count": 4,
   "id": "b8b159b4-9174-4334-8437-5d0cfe1deca6",
   "metadata": {},
   "outputs": [],
   "source": [
    "# Excercise 2\n",
    "# checking for the string having len >=5 \n",
    "def long_strings(S):\n",
    "    def is_long(s):\n",
    "        return len(s) >=5\n",
    "    return list(filter(is_long,S)) "
   ]
  },
  {
   "cell_type": "code",
   "execution_count": 5,
   "id": "cbab8192-1e7a-480e-8323-ab42f7991591",
   "metadata": {},
   "outputs": [
    {
     "name": "stdout",
     "output_type": "stream",
     "text": [
      "The string having len>=5 in S1: ['12345', '123456', '1234567']\n",
      "The string having len>=5 in S2: ['abcde', 'abcdef']\n"
     ]
    }
   ],
   "source": [
    "# checking for values(strings)\n",
    "String_S1 = ['123','1234','12345','123456','1234567']\n",
    "String_S2 = ['ab','abc','abcd','abcde','abcdef']\n",
    "print('The string having len>=5 in S1:',long_strings(String_S1))\n",
    "print('The string having len>=5 in S2:',long_strings(String_S2))"
   ]
  },
  {
   "cell_type": "code",
   "execution_count": 6,
   "id": "78758221-ab76-4c72-9a5b-09049036d240",
   "metadata": {},
   "outputs": [
    {
     "name": "stdout",
     "output_type": "stream",
     "text": [
      "the output of the expression is : 17\n"
     ]
    }
   ],
   "source": [
    "# Excercise 3\n",
    "# findind result for equation using eval() function\n",
    "expression = \"3*5+2\"\n",
    "Result =eval(expression)\n",
    "print('the output of the expression is :', Result)"
   ]
  },
  {
   "cell_type": "code",
   "execution_count": 7,
   "id": "7cda0c1d-a801-4b51-9fac-d2be2a65d0c4",
   "metadata": {},
   "outputs": [
    {
     "name": "stdout",
     "output_type": "stream",
     "text": [
      "The prime numbers are: [5, 13, 17, 7]\n"
     ]
    }
   ],
   "source": [
    "# Excercise 4\n",
    "# filtering prime number from list of integers\n",
    "def is_prime(p):\n",
    "    if p < 2:\n",
    "        return False\n",
    "    for i in range(2,int(p**0.5) + 1):\n",
    "        if p % i == 0:\n",
    "            return False\n",
    "    return True \n",
    "    \n",
    "# checking for numbers\n",
    "Numbers = [1,5,8,46,16,22,21,27,13,17,9,7]\n",
    "Prime_numbers = list(filter(is_prime, Numbers))\n",
    "print('The prime numbers are:', Prime_numbers)"
   ]
  },
  {
   "cell_type": "code",
   "execution_count": 8,
   "id": "31971031-299d-47c7-887a-b13834001c5a",
   "metadata": {},
   "outputs": [
    {
     "name": "stdout",
     "output_type": "stream",
     "text": [
      "['JANUARY', 'FEBRUARY', 'MARCH', 'APRIL', 'MAY', 'JUNE', 'JULY', 'AUGUST']\n"
     ]
    }
   ],
   "source": [
    "# Excercise 5\n",
    "# Converting list of strings to uppercase using map() function\n",
    "def uppercase(strings):\n",
    "  return list(map(str.upper, strings))\n",
    "\n",
    "List_of_strings = ['January','February', 'March', 'April', 'May', 'June', 'July', 'August']\n",
    "print (uppercase(List_of_strings))"
   ]
  }
 ],
 "metadata": {
  "kernelspec": {
   "display_name": "Python 3 (ipykernel)",
   "language": "python",
   "name": "python3"
  },
  "language_info": {
   "codemirror_mode": {
    "name": "ipython",
    "version": 3
   },
   "file_extension": ".py",
   "mimetype": "text/x-python",
   "name": "python",
   "nbconvert_exporter": "python",
   "pygments_lexer": "ipython3",
   "version": "3.12.7"
  }
 },
 "nbformat": 4,
 "nbformat_minor": 5
}
