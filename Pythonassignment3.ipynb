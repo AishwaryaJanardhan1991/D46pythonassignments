{
 "cells": [
  {
   "cell_type": "code",
   "execution_count": 26,
   "id": "c398b482-1d21-4ca6-a9fb-0b750d3c41e2",
   "metadata": {},
   "outputs": [
    {
     "name": "stdin",
     "output_type": "stream",
     "text": [
      "Enter the month(1-12):  3\n"
     ]
    },
    {
     "name": "stdout",
     "output_type": "stream",
     "text": [
      "Month 3 is March\n"
     ]
    }
   ],
   "source": [
    "# Exercise 1\n",
    "# printing Month names according to Month number(also attached in seperate file)\n",
    "\n",
    "Month_num = int(input('Enter the month(1-12): '))\n",
    "\n",
    "if Month_num ==1: \n",
    "    print('Month 1 is January')\n",
    "elif Month_num==2: \n",
    "    print('Month 2 is February')\n",
    "elif Month_num==3: \n",
    "    print('Month 3 is March')\n",
    "elif Month_num==4: \n",
    "    print('Month 4 is April')\n",
    "elif Month_num==5: \n",
    "    print('Month 5 is May') \n",
    "elif Month_num==6: \n",
    "    print('Month 6 is June')\n",
    "elif Month_num==7: \n",
    "    print('Month 7 is July')\n",
    "elif Month_num==8: \n",
    "    print('Month 8 is August')\n",
    "elif Month_num==9: \n",
    "    print('Month 9 is September')\n",
    "elif Month_num==10: \n",
    "    print('Month 10 is October')\n",
    "elif Month_num==11: \n",
    "    print('Month 11 is November')\n",
    "elif Month_num==12: \n",
    "    print('Month 12 is December')\n",
    "else: print('Month does not exist! please enter a number between 1 and 12') "
   ]
  },
  {
   "cell_type": "code",
   "execution_count": 18,
   "id": "7d0607f3-c152-44b3-a0f0-1c9dff040f01",
   "metadata": {},
   "outputs": [
    {
     "name": "stdin",
     "output_type": "stream",
     "text": [
      "Enter your age:  63\n"
     ]
    },
    {
     "name": "stdout",
     "output_type": "stream",
     "text": [
      "Your ticket costs £2.0\n"
     ]
    }
   ],
   "source": [
    "# Exercise 2 \n",
    "# printing ticket price according to age\n",
    "\n",
    "Age = int(input('Enter your age: '))\n",
    "full_price = 6.0\n",
    "\n",
    "if Age <16: \n",
    "    print(f'Your ticket costs £{ full_price / 2}')\n",
    "elif Age >=60:\n",
    "    print(f'Your ticket costs £{ full_price /3}')\n",
    "else: \n",
    "    print(f'Your ticket costs £{ full_price}')\n",
    "    63\n",
    "    "
   ]
  },
  {
   "cell_type": "code",
   "execution_count": 27,
   "id": "36d90a31-ae29-4102-8a97-71858c86ebe2",
   "metadata": {},
   "outputs": [
    {
     "name": "stdin",
     "output_type": "stream",
     "text": [
      "Enter your weight in (Kg):  75\n",
      "Enter your height in (m):  1.70\n"
     ]
    },
    {
     "name": "stdout",
     "output_type": "stream",
     "text": [
      "Your BMI is: 25.95155709342561\n",
      "You are in the “overweight” range.\n"
     ]
    }
   ],
   "source": [
    "# Exercise 3 \n",
    "# calculating BMI and health condition accordingly(also attached is seperate file)\n",
    "# Body Mass Index (BMI) = weight(kg)/height2(m2)\n",
    "\n",
    "Persons_weight = float(input('Enter your weight in (Kg): '))\n",
    "Persons_height = float(input('Enter your height in (m): '))\n",
    "BMI_of_person = Persons_weight/ (Persons_height ** 2)\n",
    "\n",
    "print(f\"Your BMI is: {BMI_of_person}\")\n",
    "if BMI_of_person <18.5: \n",
    "    print('You are in the “underweight” range.')\n",
    "elif 18.5<= BMI_of_person <=24.9 :\n",
    "    print('You are in the “Normal” range.')\n",
    "elif 25<= BMI_of_person<=29.9:\n",
    "    print('You are in the “overweight” range.')\n",
    "else: \n",
    "    print('You are Obese')"
   ]
  },
  {
   "cell_type": "code",
   "execution_count": 28,
   "id": "4b003741-0b5b-4515-a875-0fa60ca6f5ef",
   "metadata": {},
   "outputs": [
    {
     "name": "stdin",
     "output_type": "stream",
     "text": [
      "Enter your number N1:  58\n",
      "Enter your number N2:  54\n",
      "Enter your number N3:  132\n"
     ]
    },
    {
     "name": "stdout",
     "output_type": "stream",
     "text": [
      "The greatest among the numbers is: 132\n"
     ]
    }
   ],
   "source": [
    "# Exercise 4\n",
    "# finding greatest value among 3 numbers\n",
    "\n",
    "Number1 = int(input('Enter your number N1: '))\n",
    "Number2 = int(input('Enter your number N2: '))\n",
    "Number3 = int(input('Enter your number N3: '))\n",
    "print ('The greatest among the numbers is:', max( Number1,Number2,Number3))\n"
   ]
  },
  {
   "cell_type": "code",
   "execution_count": 29,
   "id": "4698d499-2c80-4011-a6df-82588650c92d",
   "metadata": {},
   "outputs": [
    {
     "name": "stdin",
     "output_type": "stream",
     "text": [
      "Enter a number:  8\n"
     ]
    },
    {
     "name": "stdout",
     "output_type": "stream",
     "text": [
      "The factorial of Number is 40320\n"
     ]
    }
   ],
   "source": [
    "# Exercise 5\n",
    "#  finding the factorial of a number \n",
    "\n",
    "Number = int(input(\"Enter a number: \"))\n",
    "factorial = 1\n",
    "\n",
    "if Number < 0:\n",
    "      print(\"Cannot print factorial for negative numbers.\")\n",
    "else:\n",
    "    for n in range (1, Number + 1):\n",
    "       factorial *= n\n",
    "    print(f\"The factorial of Number is {factorial}\")"
   ]
  },
  {
   "cell_type": "code",
   "execution_count": 30,
   "id": "e03c5e8c-7683-4530-bb04-a3f56b70e8f9",
   "metadata": {},
   "outputs": [
    {
     "name": "stdin",
     "output_type": "stream",
     "text": [
      "Enter a number: 45\n"
     ]
    },
    {
     "name": "stdout",
     "output_type": "stream",
     "text": [
      "Reversed_Number is : 54\n"
     ]
    }
   ],
   "source": [
    "# Excercise 6\n",
    "# printing a number in reverse  format using while loop\n",
    "\n",
    "Number = int(input('Enter a number:'))\n",
    "Reversed_Number = 0\n",
    "\n",
    "while Number:\n",
    "    Reversed_Number = Reversed_Number * 10 + Number % 10\n",
    "    Number //= 10\n",
    "    \n",
    "print(f\"Reversed_Number is :\", Reversed_Number)"
   ]
  },
  {
   "cell_type": "code",
   "execution_count": 31,
   "id": "ab680214-24a2-4309-9f78-7b1c2b13f0ce",
   "metadata": {},
   "outputs": [
    {
     "name": "stdin",
     "output_type": "stream",
     "text": [
      "Enter a number:  5\n",
      "Enter a Limit:  4\n"
     ]
    },
    {
     "name": "stdout",
     "output_type": "stream",
     "text": [
      "Multiples of 5 up to 4:\n",
      "5 * 1 = 5\n",
      "5 * 2 = 10\n",
      "5 * 3 = 15\n",
      "5 * 4 = 20\n"
     ]
    }
   ],
   "source": [
    "# Exercise 7\n",
    "# printing multiplication of a number up to a range\n",
    "Number = int(input(\"Enter a number: \"))\n",
    "Range = int(input(\"Enter a Limit: \"))\n",
    "\n",
    "if Number < 0:\n",
    "      print(\"Multiplication will be negetive for negative numbers.\")\n",
    "elif Number == 0:\n",
    "      print(\"Multiplication answer will be Zero\")\n",
    "else:\n",
    "   print(f\"Multiples of {Number} up to {Range}:\")\n",
    "for n in range (1, Range + 1):\n",
    "    print(f\"{Number} * {n} = {Number*n}\")"
   ]
  },
  {
   "cell_type": "code",
   "execution_count": 32,
   "id": "daa1c1d8-4c29-443b-bf30-d1f06410bc28",
   "metadata": {},
   "outputs": [
    {
     "name": "stdin",
     "output_type": "stream",
     "text": [
      ": hello there\n"
     ]
    },
    {
     "name": "stdout",
     "output_type": "stream",
     "text": [
      "hello there\n"
     ]
    },
    {
     "name": "stdin",
     "output_type": "stream",
     "text": [
      ": finished\n"
     ]
    },
    {
     "name": "stdout",
     "output_type": "stream",
     "text": [
      "finished\n"
     ]
    },
    {
     "name": "stdin",
     "output_type": "stream",
     "text": [
      ": done\n"
     ]
    },
    {
     "name": "stdout",
     "output_type": "stream",
     "text": [
      "Done\n"
     ]
    }
   ],
   "source": [
    "# Exercise 8 \n",
    "# printing a value to be break when it comes 'done'\n",
    "while True:\n",
    "    i = input(\":\")\n",
    "    if i == 'done':\n",
    "        print(\"Done\")\n",
    "        break\n",
    "    else:\n",
    "        print(i)  "
   ]
  },
  {
   "cell_type": "code",
   "execution_count": 33,
   "id": "69ab213f-fecc-493c-b426-2be295285519",
   "metadata": {},
   "outputs": [
    {
     "name": "stdout",
     "output_type": "stream",
     "text": [
      "1\n",
      "2\n",
      "Fizz\n",
      "4\n",
      "Buzz\n",
      "Fizz\n",
      "7\n",
      "8\n",
      "Fizz\n",
      "Buzz\n"
     ]
    }
   ],
   "source": [
    "# Exercise 9\n",
    "# printing 'fizz','buzz','fizzbuzz',instead of multiplication of 3,5 and both\n",
    "\n",
    "for i in range(1,11):\n",
    "    if i % 3 == 0 and i % 5 == 0:\n",
    "        print('FizzBuzz')\n",
    "    elif i % 3 ==0:\n",
    "        print ('Fizz')\n",
    "    elif i % 5 == 0:\n",
    "        print('Buzz')\n",
    "    else:\n",
    "        print(i)"
   ]
  },
  {
   "cell_type": "code",
   "execution_count": 34,
   "id": "626a250a-dd30-4a50-bfb3-3f2e532b81d8",
   "metadata": {},
   "outputs": [
    {
     "name": "stdout",
     "output_type": "stream",
     "text": [
      "5 4 3 2 1 \n",
      "4 3 2 1 \n",
      "3 2 1 \n",
      "2 1 \n",
      "1 \n"
     ]
    }
   ],
   "source": [
    "# Exercise 10\n",
    "# code for the specific pattern\n",
    "\n",
    "i = 5\n",
    "while i > 0:\n",
    "    j = i\n",
    "    while j > 0:\n",
    "        print (j, end=\" \")\n",
    "        j -= 1\n",
    "    print()\n",
    "    i -=1"
   ]
  }
 ],
 "metadata": {
  "kernelspec": {
   "display_name": "Python 3 (ipykernel)",
   "language": "python",
   "name": "python3"
  },
  "language_info": {
   "codemirror_mode": {
    "name": "ipython",
    "version": 3
   },
   "file_extension": ".py",
   "mimetype": "text/x-python",
   "name": "python",
   "nbconvert_exporter": "python",
   "pygments_lexer": "ipython3",
   "version": "3.12.7"
  }
 },
 "nbformat": 4,
 "nbformat_minor": 5
}
