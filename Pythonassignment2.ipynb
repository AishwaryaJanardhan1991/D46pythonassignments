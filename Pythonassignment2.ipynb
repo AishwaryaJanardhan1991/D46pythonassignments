{
 "cells": [
  {
   "cell_type": "markdown",
   "id": "7943f9ad-b7c9-47be-a6bf-05374dec69f5",
   "metadata": {},
   "source": [
    "PYTHONASSIGNMENT 2"
   ]
  },
  {
   "cell_type": "code",
   "execution_count": 90,
   "id": "6b837594-d5e2-417d-ae5b-baee53d3f27e",
   "metadata": {},
   "outputs": [
    {
     "name": "stdout",
     "output_type": "stream",
     "text": [
      "The random numbers are: [87, 37, 21, 50, 57]\n",
      "The updated list is: [87, 37, 11, 22, 33, 21, 50, 57]\n",
      "Each Element is: 87\n",
      "Each Element is: 37\n",
      "Each Element is: 11\n",
      "Each Element is: 22\n",
      "Each Element is: 33\n",
      "Each Element is: 21\n",
      "Each Element is: 50\n",
      "Each Element is: 57\n"
     ]
    }
   ],
   "source": [
    "# Topic: List\n",
    "#Excercise\n",
    "\n",
    "#Creating a list of 5 random numbers (Q1)\n",
    "import random as r\n",
    "random_numbers = [r.randint(1,100) for _ in range(5)]\n",
    "print('The random numbers are:', random_numbers)\n",
    "\n",
    "#inserting new 3 values (Q2)\n",
    "random_numbers[2:2] = 11,22,33\n",
    "print('The updated list is:', random_numbers)\n",
    "\n",
    "#printing each element using a for loop (Q3)\n",
    "for e in random_numbers:\n",
    "    print('Each Element is:',e)"
   ]
  },
  {
   "cell_type": "code",
   "execution_count": 113,
   "id": "1823c13e-9afc-4daf-ab22-c877ec6015a1",
   "metadata": {},
   "outputs": [
    {
     "name": "stdout",
     "output_type": "stream",
     "text": [
      "The student dictionary is: {'name': 'John', 'age': '25', 'address': 'New york'}\n",
      "The updated dictionary is: {'name': 'John', 'age': '25', 'address': 'New york', 'phone': '1234567890'}\n"
     ]
    }
   ],
   "source": [
    "# Topic : Dictionary\n",
    "#Excercise\n",
    "\n",
    "# creating a dictionary with keys (Q1)\n",
    "Student = {'name': 'John', 'age': '25', 'address': 'New york'}\n",
    "print('The student dictionary is:', Student)\n",
    "\n",
    "#adding a new value pair to the dictionary (Q2)\n",
    "Student ['phone'] = '1234567890' \n",
    "print ('The updated dictionary is:', Student)"
   ]
  },
  {
   "cell_type": "code",
   "execution_count": 109,
   "id": "439a7820-c4b4-4081-868f-2c1338f1af28",
   "metadata": {},
   "outputs": [
    {
     "name": "stdout",
     "output_type": "stream",
     "text": [
      "The numbers in set are: {1, 2, 3, 4, 5}\n",
      "The updated set after adding 6 is: {1, 2, 3, 4, 5, 6}\n",
      "The set after removing 3 is: {1, 2, 4, 5, 6}\n"
     ]
    }
   ],
   "source": [
    "# Topic : Set\n",
    "# Excercise\n",
    "\n",
    "# creating set with values 1 to 5 (Q1)\n",
    "Numbers = {1, 2, 3, 4, 5}\n",
    "print('The numbers in set are:', Numbers)\n",
    "\n",
    "# adding a new value (6) to the list (Q2)\n",
    "Numbers.add(6)\n",
    "print('The updated set after adding 6 is:', Numbers)\n",
    "\n",
    "# Removing value 3 from set (Q3)\n",
    "Numbers.remove(3)\n",
    "print('The set after removing 3 is:', Numbers)"
   ]
  },
  {
   "cell_type": "code",
   "execution_count": 114,
   "id": "db0b8bca-88f5-4736-b1f1-6dc887371e11",
   "metadata": {},
   "outputs": [
    {
     "name": "stdout",
     "output_type": "stream",
     "text": [
      "The values in the tuple is: (1, 2, 3, 4)\n",
      "The length of tuple_1 is: 4\n"
     ]
    }
   ],
   "source": [
    "# Topic : Tuple\n",
    "# Excercise\n",
    "\n",
    "#creating a tuple(Q1)\n",
    "tuple_1 = (1,2,3,4)\n",
    "print('The values in the tuple is:', tuple_1)\n",
    "\n",
    "#calculating ythe number of elrments/length of the tuple (Q2)\n",
    "print('The length of tuple_1 is:', len(tuple_1))"
   ]
  }
 ],
 "metadata": {
  "kernelspec": {
   "display_name": "Python 3 (ipykernel)",
   "language": "python",
   "name": "python3"
  },
  "language_info": {
   "codemirror_mode": {
    "name": "ipython",
    "version": 3
   },
   "file_extension": ".py",
   "mimetype": "text/x-python",
   "name": "python",
   "nbconvert_exporter": "python",
   "pygments_lexer": "ipython3",
   "version": "3.12.7"
  }
 },
 "nbformat": 4,
 "nbformat_minor": 5
}
