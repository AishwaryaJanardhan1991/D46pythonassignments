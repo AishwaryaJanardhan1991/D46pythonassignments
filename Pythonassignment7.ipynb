{
 "cells": [
  {
   "cell_type": "code",
   "execution_count": 91,
   "id": "73d59d48-d77c-450a-917e-681cef8aa5be",
   "metadata": {},
   "outputs": [],
   "source": [
    "import numpy as np\n",
    "import pandas as pd"
   ]
  },
  {
   "cell_type": "markdown",
   "id": "75177f8b-afcd-4e61-a39b-f1989c97a64c",
   "metadata": {},
   "source": [
    "# Exercise 1"
   ]
  },
  {
   "cell_type": "code",
   "execution_count": 92,
   "id": "c1ccda5a-a923-42df-afe4-89190086edb9",
   "metadata": {},
   "outputs": [
    {
     "name": "stdout",
     "output_type": "stream",
     "text": [
      "array before reshaping:\n",
      "[ 1  2  3  4  5  6  7  8  9 10]\n",
      "array after reshaping(after creating matrix):\n"
     ]
    },
    {
     "data": {
      "text/plain": [
       "array([[ 1,  2,  3,  4,  5],\n",
       "       [ 6,  7,  8,  9, 10]])"
      ]
     },
     "execution_count": 92,
     "metadata": {},
     "output_type": "execute_result"
    }
   ],
   "source": [
    "# creating numpy array from 1 to 10, then reshaping into 2X5 matrix\n",
    "array = np.arange(1,11)\n",
    "reshape = array.reshape(2, 5)\n",
    "print(\"array before reshaping:\")\n",
    "print(array)\n",
    "print(\"array after reshaping(after creating matrix):\")\n",
    "reshape"
   ]
  },
  {
   "cell_type": "markdown",
   "id": "3db69e3a-44e4-43c5-96ea-c7686f4a47a9",
   "metadata": {},
   "source": [
    "# Exercise 2"
   ]
  },
  {
   "cell_type": "code",
   "execution_count": 93,
   "id": "d9b2397c-250c-4eb4-8865-1d9a7e81aaed",
   "metadata": {},
   "outputs": [
    {
     "name": "stdout",
     "output_type": "stream",
     "text": [
      "[ 1  2  3  4  5  6  7  8  9 10 11 12 13 14 15 16 17 18 19 20]\n",
      "Output after Extraction:\n",
      "[ 6  7  8  9 10 11 12 13 14 15 16]\n"
     ]
    }
   ],
   "source": [
    "# creating numpy arrays from 1 to 20 and extracting numbers between 5th and 15 th index\n",
    "array_2 = np.arange(1, 21)\n",
    "print(array_2)\n",
    "\n",
    "elements_extracted = array_2[5:16]\n",
    "print(\"Output after Extraction:\")\n",
    "print(elements_extracted)"
   ]
  },
  {
   "cell_type": "markdown",
   "id": "eec62dca-9090-426e-8759-a16edfc65cbb",
   "metadata": {},
   "source": [
    "# Excercise 3"
   ]
  },
  {
   "cell_type": "code",
   "execution_count": 94,
   "id": "28e28b4b-a282-4550-942f-0f6683257dff",
   "metadata": {},
   "outputs": [
    {
     "data": {
      "text/plain": [
       "apples     3\n",
       "bananas    2\n",
       "oranges    1\n",
       "dtype: int64"
      ]
     },
     "execution_count": 94,
     "metadata": {},
     "output_type": "execute_result"
    }
   ],
   "source": [
    "# creating a panda series  \n",
    "fruits = pd.Series ({'apples': 3, 'bananas': 2, 'oranges': 1})\n",
    "fruits               "
   ]
  },
  {
   "cell_type": "code",
   "execution_count": 95,
   "id": "a86963ff-941e-4bf6-aee9-b64aff1e668c",
   "metadata": {},
   "outputs": [
    {
     "name": "stdout",
     "output_type": "stream",
     "text": [
      "Output:\n",
      "apples     3\n",
      "bananas    2\n",
      "oranges    1\n",
      "pears      4\n",
      "dtype: int64\n"
     ]
    }
   ],
   "source": [
    "#adding a new item\n",
    "fruits['pears'] = 4\n",
    "print(\"Output:\")\n",
    "print(fruits) "
   ]
  },
  {
   "cell_type": "markdown",
   "id": "a14afa4a-3221-4286-8da3-0b83833a2dd3",
   "metadata": {},
   "source": [
    "# Excercise 4"
   ]
  },
  {
   "cell_type": "code",
   "execution_count": 96,
   "id": "33e700c0-7f65-40ac-9218-87747c7cdc15",
   "metadata": {},
   "outputs": [
    {
     "name": "stdout",
     "output_type": "stream",
     "text": [
      "     name  age  gender\n",
      "0  Saniya   34  Female\n",
      "1    Sony   32    Male\n",
      "2   Manju   23  Female\n",
      "3   Radha   24  Female\n",
      "4   Sunil   31    Male\n",
      "5    Mini   25  Female\n",
      "6  Sarika   19  Female\n",
      "7  Bindhu   33  Female\n",
      "8   Munni   27  Female\n",
      "9   Annie   35  Female\n"
     ]
    }
   ],
   "source": [
    "# creating a dataframe with columns name,age,gender(10 raws of data)\n",
    "\n",
    "data = {\n",
    "    'name': ['Saniya','Sony','Manju','Radha','Sunil','Mini','Sarika','Bindhu','Munni','Annie'],\n",
    "    'age' : [34,32,23,24,31,25,19,33,27,35],\n",
    "    'gender':['Female', 'Male', 'Female','Female','Male','Female','Female','Female','Female','Female']\n",
    "}\n",
    "df = pd.DataFrame(data)\n",
    "print(df)"
   ]
  },
  {
   "cell_type": "markdown",
   "id": "45c110df-c45e-409c-94e8-6b02d8a6ecb7",
   "metadata": {},
   "source": [
    "# Exercise 5"
   ]
  },
  {
   "cell_type": "code",
   "execution_count": 97,
   "id": "47a2f9cd-e12e-4752-9f62-980cc6cebae4",
   "metadata": {},
   "outputs": [
    {
     "name": "stdout",
     "output_type": "stream",
     "text": [
      "Output:\n",
      "     name  age  gender  occupation\n",
      "0  Saniya   34  Female  Programmer\n",
      "1    Sony   32    Male     Manager\n",
      "2   Manju   23  Female     Analyst\n",
      "3   Radha   24  Female     Manager\n",
      "4   Sunil   31    Male     Manager\n",
      "5    Mini   25  Female     Analyst\n",
      "6  Sarika   19  Female  Programmer\n",
      "7  Bindhu   33  Female  Programmer\n",
      "8   Munni   27  Female     Manager\n",
      "9   Annie   35  Female     Analyst\n"
     ]
    }
   ],
   "source": [
    "# adding a new column called occupation\n",
    "df['occupation'] = ['Programmer', 'Manager', 'Analyst','Manager','Manager', 'Analyst','Programmer','Programmer', 'Manager', 'Analyst']\n",
    "print(\"Output:\")\n",
    "print(df)"
   ]
  },
  {
   "cell_type": "markdown",
   "id": "63c3e4ef-514d-4615-ba90-6f43cc6fab9b",
   "metadata": {},
   "source": [
    "# Exercise 6"
   ]
  },
  {
   "cell_type": "code",
   "execution_count": 98,
   "id": "bc72ebef-5e26-4893-aa5e-cef9ad61e991",
   "metadata": {},
   "outputs": [
    {
     "name": "stdout",
     "output_type": "stream",
     "text": [
      "Output:\n",
      "     name  age  gender  occupation\n",
      "0  Saniya   34  Female  Programmer\n",
      "1    Sony   32    Male     Manager\n",
      "4   Sunil   31    Male     Manager\n",
      "7  Bindhu   33  Female  Programmer\n",
      "9   Annie   35  Female     Analyst\n"
     ]
    }
   ],
   "source": [
    "# selecting the rows of the d.frame where the age>=30\n",
    "Age_selected = df[df['age'] >= 30]\n",
    "print(\"Output:\")\n",
    "print(Age_selected)"
   ]
  },
  {
   "cell_type": "markdown",
   "id": "7717dae4-7a58-4565-9bb7-2a7d9c15ab5b",
   "metadata": {},
   "source": [
    "# Exercise 7"
   ]
  },
  {
   "cell_type": "code",
   "execution_count": 99,
   "id": "bd18b8d8-e306-4c7f-9eae-38b68d2f215f",
   "metadata": {},
   "outputs": [
    {
     "name": "stdout",
     "output_type": "stream",
     "text": [
      "Output:\n",
      "     name  age  gender  occupation\n",
      "0  Saniya   34  Female  Programmer\n",
      "1    Sony   32    Male     Manager\n",
      "2   Manju   23  Female     Analyst\n",
      "3   Radha   24  Female     Manager\n",
      "4   Sunil   31    Male     Manager\n",
      "5    Mini   25  Female     Analyst\n",
      "6  Sarika   19  Female  Programmer\n",
      "7  Bindhu   33  Female  Programmer\n",
      "8   Munni   27  Female     Manager\n",
      "9   Annie   35  Female     Analyst\n"
     ]
    }
   ],
   "source": [
    "#  Converting this d.frame to a csv file and read that csv file, finally display the contents. \n",
    "df.to_csv(\"dataframe_csv\", index = False)\n",
    "df_read_file = pd.read_csv(\"dataframe_csv\")\n",
    "print(\"Output:\")\n",
    "print(df_read_file)"
   ]
  }
 ],
 "metadata": {
  "kernelspec": {
   "display_name": "Python 3 (ipykernel)",
   "language": "python",
   "name": "python3"
  },
  "language_info": {
   "codemirror_mode": {
    "name": "ipython",
    "version": 3
   },
   "file_extension": ".py",
   "mimetype": "text/x-python",
   "name": "python",
   "nbconvert_exporter": "python",
   "pygments_lexer": "ipython3",
   "version": "3.12.7"
  }
 },
 "nbformat": 4,
 "nbformat_minor": 5
}
