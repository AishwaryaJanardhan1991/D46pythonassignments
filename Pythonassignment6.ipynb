{
 "cells": [
  {
   "cell_type": "code",
   "execution_count": 85,
   "id": "4be4dd20-768d-4cb4-a758-83bda35545ef",
   "metadata": {},
   "outputs": [
    {
     "name": "stdout",
     "output_type": "stream",
     "text": [
      "Example 1:\n",
      "Course code: CS101, Course Name: Introduction to Computer Science, Credit Hours:3\n",
      "Required for Major: yes\n",
      "Example 2:\n",
      "Course code: Python, Course Name: Coding, Credit Hours:2\n",
      "Elective Type : technical\n"
     ]
    }
   ],
   "source": [
    "# Question 1(University course Catalog)\n",
    "# Defining a base class named Course\n",
    "\n",
    "class Course:\n",
    "    def __init__(self, course_code, course_name, credit_hours):\n",
    "       self.course_code = course_code\n",
    "       self.course_name = course_name\n",
    "       self.credit_hours = credit_hours\n",
    "\n",
    "    def display_info(self):\n",
    "        print(f\"Course code: {self.course_code}, Course Name: {self.course_name}, Credit Hours:{self.credit_hours}\")\n",
    "        \n",
    "# sub class for CoreCourse\n",
    "class CoreCourse(Course):\n",
    "    def __init__(self, course_code, course_name, credit_hours, required_for_major):\n",
    "        super().__init__(course_code, course_name, credit_hours)\n",
    "        self.required_for_major = required_for_major\n",
    "\n",
    "    def display_info(self):\n",
    "        super().display_info()\n",
    "        print(f\"Required for Major: {'yes' if self.required_for_major else 'No'}\")\n",
    "\n",
    "# Subclass for Elective Course\n",
    "class ElectiveCourse(Course):\n",
    "    def __init__(self, course_code, course_name, credit_hours, elective_type):\n",
    "        super().__init__(course_code, course_name, credit_hours)\n",
    "        self.elective_type = elective_type\n",
    "\n",
    "    def display_info(self):\n",
    "        super().display_info()\n",
    "        print(f\"Elective Type : {self.elective_type}\")\n",
    "        \n",
    "# for a sample usage(examples for both core courseand elective course)\n",
    "\n",
    "if __name__ == \"__main__\":\n",
    "    print(\"Example 1:\")\n",
    "    core_course = CoreCourse(\"CS101\", \"Introduction to Computer Science\", 3, True)\n",
    "    core_course.display_info()\n",
    "    print(\"Example 2:\")\n",
    "    elective_course = ElectiveCourse(\"Python\", \"Coding\", 2, \"technical\")\n",
    "    elective_course.display_info()"
   ]
  },
  {
   "cell_type": "code",
   "execution_count": 84,
   "id": "d8f5c7f3-29ea-4e78-b573-1f71a810df62",
   "metadata": {},
   "outputs": [
    {
     "name": "stdout",
     "output_type": "stream",
     "text": [
      "\n",
      "Employee Example:\n",
      "Employee Name: Alice Johnson\n",
      "Employee Salary: $42000\n"
     ]
    }
   ],
   "source": [
    "# Question 2 Employee module\n",
    "# creating a seperate module \n",
    "class Employee:\n",
    "    def __init__(self, name, salary):\n",
    "        self.__name = name\n",
    "        self.__salary = salary\n",
    "\n",
    "    def get_name(self):\n",
    "        return self.__name\n",
    "\n",
    "    def get_salary(self):\n",
    "        return self.__salary   \n",
    "# programms for Employee module\n",
    "if __name__ == \"__main__\":\n",
    "    print(\"\\nEmployee Example:\")\n",
    "    emp1 = Employee(\"Alice Johnson\", 42000)\n",
    "    print(f\"Employee Name: {emp1.get_name()}\")\n",
    "    print(f\"Employee Salary: ${emp1.get_salary()}\")"
   ]
  }
 ],
 "metadata": {
  "kernelspec": {
   "display_name": "Python 3 (ipykernel)",
   "language": "python",
   "name": "python3"
  },
  "language_info": {
   "codemirror_mode": {
    "name": "ipython",
    "version": 3
   },
   "file_extension": ".py",
   "mimetype": "text/x-python",
   "name": "python",
   "nbconvert_exporter": "python",
   "pygments_lexer": "ipython3",
   "version": "3.12.7"
  }
 },
 "nbformat": 4,
 "nbformat_minor": 5
}
